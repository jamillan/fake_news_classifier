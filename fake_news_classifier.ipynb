{
 "cells": [
  {
   "cell_type": "code",
   "execution_count": 1,
   "metadata": {},
   "outputs": [
    {
     "name": "stderr",
     "output_type": "stream",
     "text": [
      "/opt/local/Library/Frameworks/Python.framework/Versions/2.7/lib/python2.7/site-packages/matplotlib/__init__.py:913: UserWarning: axes.color_cycle is deprecated and replaced with axes.prop_cycle; please use the latter.\n",
      "  warnings.warn(self.msg_depr % (key, alt_key))\n"
     ]
    }
   ],
   "source": [
    "import pandas as pd\n",
    "import numpy as np\n",
    "import random \n",
    "\n",
    "\n",
    "import warnings\n",
    "warnings.filterwarnings(\"ignore\", category=DeprecationWarning) \n",
    "from matplotlib import pyplot as plt\n",
    "import seaborn as sns\n",
    "from sklearn.metrics import classification_report"
   ]
  },
  {
   "cell_type": "markdown",
   "metadata": {},
   "source": [
    "## **********READING DATA********************\n",
    "\n",
    "Here we read the data:\n",
    "Data consist of an (i) index, (ii) tittle , (iii) text and (iv) label (FAKE or REAL)"
   ]
  },
  {
   "cell_type": "code",
   "execution_count": 2,
   "metadata": {},
   "outputs": [
    {
     "data": {
      "text/html": [
       "<div>\n",
       "<table border=\"1\" class=\"dataframe\">\n",
       "  <thead>\n",
       "    <tr style=\"text-align: right;\">\n",
       "      <th></th>\n",
       "      <th>Unnamed: 0</th>\n",
       "      <th>title</th>\n",
       "      <th>text</th>\n",
       "      <th>label</th>\n",
       "    </tr>\n",
       "  </thead>\n",
       "  <tbody>\n",
       "    <tr>\n",
       "      <th>0</th>\n",
       "      <td>8476</td>\n",
       "      <td>You Can Smell Hillary’s Fear</td>\n",
       "      <td>Daniel Greenfield, a Shillman Journalism Fello...</td>\n",
       "      <td>FAKE</td>\n",
       "    </tr>\n",
       "    <tr>\n",
       "      <th>1</th>\n",
       "      <td>10294</td>\n",
       "      <td>Watch The Exact Moment Paul Ryan Committed Pol...</td>\n",
       "      <td>Google Pinterest Digg Linkedin Reddit Stumbleu...</td>\n",
       "      <td>FAKE</td>\n",
       "    </tr>\n",
       "    <tr>\n",
       "      <th>2</th>\n",
       "      <td>3608</td>\n",
       "      <td>Kerry to go to Paris in gesture of sympathy</td>\n",
       "      <td>U.S. Secretary of State John F. Kerry said Mon...</td>\n",
       "      <td>REAL</td>\n",
       "    </tr>\n",
       "    <tr>\n",
       "      <th>3</th>\n",
       "      <td>10142</td>\n",
       "      <td>Bernie supporters on Twitter erupt in anger ag...</td>\n",
       "      <td>— Kaydee King (@KaydeeKing) November 9, 2016 T...</td>\n",
       "      <td>FAKE</td>\n",
       "    </tr>\n",
       "    <tr>\n",
       "      <th>4</th>\n",
       "      <td>875</td>\n",
       "      <td>The Battle of New York: Why This Primary Matters</td>\n",
       "      <td>It's primary day in New York and front-runners...</td>\n",
       "      <td>REAL</td>\n",
       "    </tr>\n",
       "  </tbody>\n",
       "</table>\n",
       "</div>"
      ],
      "text/plain": [
       "   Unnamed: 0                                              title  \\\n",
       "0        8476                       You Can Smell Hillary’s Fear   \n",
       "1       10294  Watch The Exact Moment Paul Ryan Committed Pol...   \n",
       "2        3608        Kerry to go to Paris in gesture of sympathy   \n",
       "3       10142  Bernie supporters on Twitter erupt in anger ag...   \n",
       "4         875   The Battle of New York: Why This Primary Matters   \n",
       "\n",
       "                                                text label  \n",
       "0  Daniel Greenfield, a Shillman Journalism Fello...  FAKE  \n",
       "1  Google Pinterest Digg Linkedin Reddit Stumbleu...  FAKE  \n",
       "2  U.S. Secretary of State John F. Kerry said Mon...  REAL  \n",
       "3  — Kaydee King (@KaydeeKing) November 9, 2016 T...  FAKE  \n",
       "4  It's primary day in New York and front-runners...  REAL  "
      ]
     },
     "execution_count": 2,
     "metadata": {},
     "output_type": "execute_result"
    }
   ],
   "source": [
    "#UPOAD DATA\n",
    "df = pd.read_csv(\"fake_or_real_news.csv\" )\n",
    "df.head()"
   ]
  },
  {
   "cell_type": "markdown",
   "metadata": {},
   "source": [
    "## **********DATA IS BALANCE********************"
   ]
  },
  {
   "cell_type": "code",
   "execution_count": 13,
   "metadata": {},
   "outputs": [
    {
     "data": {
      "text/plain": [
       "<matplotlib.axes._subplots.AxesSubplot at 0x110960290>"
      ]
     },
     "execution_count": 13,
     "metadata": {},
     "output_type": "execute_result"
    },
    {
     "data": {
      "image/png": "[encoded data removed]",
      "text/plain": [
       "<matplotlib.figure.Figure at 0x1101d6910>"
      ]
     },
     "metadata": {},
     "output_type": "display_data"
    }
   ],
   "source": [
    "df.label.value_counts().plot(kind='barh')"
   ]
  },
  {
   "cell_type": "code",
   "execution_count": null,
   "metadata": {},
   "outputs": [],
   "source": []
  },
  {
   "cell_type": "markdown",
   "metadata": {},
   "source": [
    "## **********Create Bag of Words********************\n",
    "\n"
   ]
  },
  {
   "cell_type": "markdown",
   "metadata": {},
   "source": [
    "## Here we use the CountVectorizer infrastructure  to create a word counter in each text"
   ]
  },
  {
   "cell_type": "markdown",
   "metadata": {},
   "source": [
    "## We then split the bag of words in a training and testing set"
   ]
  },
  {
   "cell_type": "code",
   "execution_count": 3,
   "metadata": {},
   "outputs": [
    {
     "name": "stdout",
     "output_type": "stream",
     "text": [
      "***SOME VOCABULARY WORDS\n",
      "\n",
      "[u'00', u'000', u'0000', u'00000031', u'000035', u'00006', u'0001', u'0001pt', u'000ft', u'000km']\n",
      "[u'scripts', u'scriptural', u'scripture', u'scriptures', u'scriptworthy', u'scroll', u'scrolled', u'scrolling', u'scrolls', u'scrub']\n"
     ]
    }
   ],
   "source": [
    "# Import the necessary modules\n",
    "from sklearn.feature_extraction.text import CountVectorizer\n",
    "from sklearn.model_selection import train_test_split\n",
    "\n",
    "# Print the head of df\n",
    "#print(df.head())\n",
    "\n",
    "# Create a series to store the labels: y\n",
    "y = df.label\n",
    "\n",
    "# Create training and test sets\n",
    "X_train, X_test, y_train, y_test = train_test_split(df['text'], y, test_size=0.33, random_state=53)\n",
    "\n",
    "# Initialize a CountVectorizer object: count_vectorizer\n",
    "count_vectorizer = CountVectorizer(stop_words='english')\n",
    "\n",
    "# Transform the training data using only the 'text' column values: count_train \n",
    "count_train = count_vectorizer.fit_transform(X_train)\n",
    "\n",
    "# Transform the test data using only the 'text' column values: count_test \n",
    "count_test = count_vectorizer.transform(X_test)\n",
    "\n",
    "print(\"***SOME VOCABULARY WORDS\")\n",
    "print('')\n",
    "# Print the first 10 features of the count_vectorizer\n",
    "print(count_vectorizer.get_feature_names()[0:10])\n",
    "print(count_vectorizer.get_feature_names()[44950:44960])"
   ]
  },
  {
   "cell_type": "markdown",
   "metadata": {},
   "source": [
    "## **********DATA NOW IS SPARSE********************\n",
    "## SOME ENTRANCES ARE 0, 1's, 2's, ......"
   ]
  },
  {
   "cell_type": "code",
   "execution_count": 327,
   "metadata": {},
   "outputs": [
    {
     "name": "stdout",
     "output_type": "stream",
     "text": [
      "[[0 0 0 ... 0 0 0]\n",
      " [0 0 0 ... 0 0 0]\n",
      " [0 0 0 ... 0 0 0]\n",
      " [0 0 0 ... 0 0 0]\n",
      " [0 0 0 ... 0 0 0]]\n"
     ]
    }
   ],
   "source": [
    "print count_train.A[:5]"
   ]
  },
  {
   "cell_type": "markdown",
   "metadata": {},
   "source": [
    "## **********Create TF-IDF (Term Frequency - INVERSE DOCUMENT FREQUENCY)********************"
   ]
  },
  {
   "cell_type": "markdown",
   "metadata": {},
   "source": [
    "## Here we use the TfidfVectorizer to create the weights of each word from our vocabulary"
   ]
  },
  {
   "cell_type": "markdown",
   "metadata": {},
   "source": [
    "## the formula for word i in text j is:\n"
   ]
  },
  {
   "cell_type": "markdown",
   "metadata": {},
   "source": [
    "wi,j = Tf i,j * log(N/mi)"
   ]
  },
  {
   "cell_type": "markdown",
   "metadata": {},
   "source": [
    "## **********THIS APPROACH GENERATES A SPARSE MATRIX ********************\n",
    "## SOME ENTRANCES ARE 0's OR REAL POSITIVE NUMBERS ......"
   ]
  },
  {
   "cell_type": "code",
   "execution_count": 4,
   "metadata": {},
   "outputs": [
    {
     "name": "stderr",
     "output_type": "stream",
     "text": [
      "/opt/local/Library/Frameworks/Python.framework/Versions/2.7/lib/python2.7/site-packages/sklearn/feature_extraction/text.py:1059: FutureWarning: Conversion of the second argument of issubdtype from `float` to `np.floating` is deprecated. In future, it will be treated as `np.float64 == np.dtype(float).type`.\n",
      "  if hasattr(X, 'dtype') and np.issubdtype(X.dtype, np.float):\n"
     ]
    },
    {
     "name": "stdout",
     "output_type": "stream",
     "text": [
      "[u'auctioning', u'auctions', u'audacious', u'audaciousness', u'audacity', u'audible', u'audibly', u'audience', u'audiences', u'audio']\n",
      "[[0. 0. 0. ... 0. 0. 0.]\n",
      " [0. 0. 0. ... 0. 0. 0.]\n",
      " [0. 0. 0. ... 0. 0. 0.]\n",
      " [0. 0. 0. ... 0. 0. 0.]\n",
      " [0. 0. 0. ... 0. 0. 0.]]\n"
     ]
    }
   ],
   "source": [
    "# Import TfidfVectorizer\n",
    "from sklearn.feature_extraction.text import TfidfVectorizer\n",
    "\n",
    "# Initialize a TfidfVectorizer object: tfidf_vectorizer\n",
    "tfidf_vectorizer = TfidfVectorizer(stop_words='english', max_df=0.7)\n",
    "\n",
    "# Transform the training data: tfidf_train \n",
    "tfidf_train = tfidf_vectorizer.fit_transform(X_train)\n",
    "\n",
    "# Transform the test data: tfidf_test \n",
    "tfidf_test = tfidf_vectorizer.transform(X_test)\n",
    "\n",
    "# Print the first 10 features\n",
    "print(tfidf_vectorizer.get_feature_names()[5000:5010])\n",
    "\n",
    "# Print the first 5 vectors of the tfidf training data\n",
    "print(tfidf_train.A[:5])"
   ]
  },
  {
   "cell_type": "code",
   "execution_count": null,
   "metadata": {},
   "outputs": [],
   "source": []
  },
  {
   "cell_type": "markdown",
   "metadata": {},
   "source": [
    "## *********Naive Bayesian Model : Ideal for sparse matrices********************"
   ]
  },
  {
   "cell_type": "markdown",
   "metadata": {},
   "source": [
    "## Let's Test Word of Bags and TF-IDF methods : Spoiler they both do Well\n",
    "## First Test Word of Bags"
   ]
  },
  {
   "cell_type": "code",
   "execution_count": 7,
   "metadata": {},
   "outputs": [
    {
     "name": "stdout",
     "output_type": "stream",
     "text": [
      "*******TRAINING SCORE:\n",
      "0.9467483506126296\n",
      "\n",
      "*******TRAINING SCORE:\n",
      "0.893352462936394\n",
      "\n"
     ]
    },
    {
     "data": {
      "image/png": "[encoded data removed]",
      "text/plain": [
       "<matplotlib.figure.Figure at 0x110960ad0>"
      ]
     },
     "metadata": {},
     "output_type": "display_data"
    },
    {
     "name": "stdout",
     "output_type": "stream",
     "text": [
      "\n",
      "----------Classification Report------------------------------------\n",
      "             precision    recall  f1-score   support\n",
      "\n",
      "       FAKE       0.92      0.86      0.89      1008\n",
      "       REAL       0.88      0.93      0.90      1083\n",
      "\n",
      "avg / total       0.89      0.89      0.89      2091\n",
      "\n"
     ]
    }
   ],
   "source": [
    "# Import the necessary modules\n",
    "from sklearn import metrics\n",
    "from sklearn.naive_bayes import MultinomialNB\n",
    "\n",
    "# Instantiate a Multinomial Naive Bayes classifier: nb_classifier\n",
    "nb_classifier_count = MultinomialNB()\n",
    "\n",
    "# Fit the classifier to the training data\n",
    "nb_classifier_count.fit(count_train,y_train)\n",
    "\n",
    "# Create the predicted tags: pred\n",
    "pred = nb_classifier_count.predict(count_test)\n",
    "pred_tr = nb_classifier_count.predict(count_train)\n",
    "# Calculate the accuracy score: score\n",
    "score = metrics.accuracy_score(y_test,pred)\n",
    "score_tr = metrics.accuracy_score(y_train,pred_tr)\n",
    "\n",
    "\n",
    "print('*******TRAINING SCORE:')\n",
    "print(score_tr)\n",
    "print('')\n",
    "print('*******TRAINING SCORE:')\n",
    "print(score)\n",
    "print('')\n",
    "# Calculate the confusion matrix: cm\n",
    "\n",
    "cm = metrics.confusion_matrix(y_test,pred,labels=['FAKE','REAL'])\n",
    "\n",
    "\n",
    "sns.heatmap(cm,cmap=\"coolwarm_r\",annot=True,linewidths=0.5)\n",
    "plt.title(\"Confusion_matrix\")\n",
    "plt.xlabel(\"Predicted_class\")\n",
    "plt.ylabel(\"Real class\")\n",
    "plt.show()\n",
    "print(\"\\n----------Classification Report------------------------------------\")\n",
    "print(classification_report(y_test,pred))"
   ]
  },
  {
   "cell_type": "markdown",
   "metadata": {},
   "source": [
    "## NOT BAD !!!!!!"
   ]
  },
  {
   "cell_type": "markdown",
   "metadata": {},
   "source": [
    "## Let's Test TF-IDF"
   ]
  },
  {
   "cell_type": "code",
   "execution_count": 11,
   "metadata": {},
   "outputs": [
    {
     "name": "stdout",
     "output_type": "stream",
     "text": [
      "*******TRAINING SCORE:\n",
      "0.9149387370405277\n",
      "\n",
      "*******TESTING SCORE:\n",
      "0.8565279770444764\n",
      "\n"
     ]
    },
    {
     "data": {
      "image/png": "[encoded data removed]",
      "text/plain": [
       "<matplotlib.figure.Figure at 0x10ff32510>"
      ]
     },
     "metadata": {},
     "output_type": "display_data"
    },
    {
     "name": "stdout",
     "output_type": "stream",
     "text": [
      "\n",
      "----------Classification Report------------------------------------\n",
      "             precision    recall  f1-score   support\n",
      "\n",
      "       FAKE       0.96      0.73      0.83      1008\n",
      "       REAL       0.80      0.97      0.88      1083\n",
      "\n",
      "avg / total       0.88      0.86      0.85      2091\n",
      "\n"
     ]
    }
   ],
   "source": [
    "\n",
    "# Create a Multinomial Naive Bayes classifier: nb_classifier\n",
    "nb_classifier_tf = MultinomialNB()\n",
    "\n",
    "# Fit the classifier to the training data\n",
    "nb_classifier_tf.fit(tfidf_train,y_train)\n",
    "\n",
    "# Create the predicted tags: pred\n",
    "pred = nb_classifier_tf.predict(tfidf_test)\n",
    "\n",
    "\n",
    "\n",
    "pred_tr = nb_classifier_tf.predict(tfidf_train)\n",
    "# Calculate the accuracy score: score\n",
    "score = metrics.accuracy_score(y_test,pred)\n",
    "score_tr = metrics.accuracy_score(y_train,pred_tr)\n",
    "\n",
    "\n",
    "\n",
    "\n",
    "print('*******TRAINING SCORE:')\n",
    "print(score_tr)\n",
    "print('')\n",
    "print('*******TESTING SCORE:')\n",
    "print(score)\n",
    "print('')\n",
    "\n",
    "\n",
    "\n",
    "# Calculate the confusion matrix: cm\n",
    "cm = metrics.confusion_matrix(y_test,pred,labels=['FAKE','REAL'])\n",
    "\n",
    "\n",
    "sns.heatmap(cm,cmap=\"coolwarm_r\",annot=True,linewidths=0.5)\n",
    "plt.title(\"Confusion_matrix\")\n",
    "plt.xlabel(\"Predicted_class\")\n",
    "plt.ylabel(\"Real class\")\n",
    "plt.show()\n",
    "print(\"\\n----------Classification Report------------------------------------\")\n",
    "print(classification_report(y_test,pred))"
   ]
  },
  {
   "cell_type": "markdown",
   "metadata": {},
   "source": [
    "## NOT BAD !!!!!!"
   ]
  },
  {
   "cell_type": "markdown",
   "metadata": {},
   "source": [
    "### Let's Hypertune the initial conditional probability in our Naive Bayesian Model for TF-IDF"
   ]
  },
  {
   "cell_type": "code",
   "execution_count": 257,
   "metadata": {},
   "outputs": [
    {
     "data": {
      "text/plain": [
       "<matplotlib.text.Text at 0x20d305410>"
      ]
     },
     "execution_count": 257,
     "metadata": {},
     "output_type": "execute_result"
    },
    {
     "data": {
      "image/png": "[encoded data removed]",
      "text/plain": [
       "<matplotlib.figure.Figure at 0x20d0f8590>"
      ]
     },
     "metadata": {},
     "output_type": "display_data"
    }
   ],
   "source": [
    "# Create the list of alphas: alphas\n",
    "alphas = np.arange(0,1,0.1)\n",
    "\n",
    "# Define train_and_predict()\n",
    "def train_and_predict(alpha):\n",
    "    # Instantiate the classifier: nb_classifier\n",
    "    nb_classifier = MultinomialNB(alpha=alpha)\n",
    "    # Fit to the training data\n",
    "    nb_classifier.fit(tfidf_train,y_train)\n",
    "    # Predict the labels: pred\n",
    "    pred = nb_classifier.predict(tfidf_test)\n",
    "    # Compute accuracy: score\n",
    "    score = metrics.accuracy_score(y_test,pred)\n",
    "    return score\n",
    "\n",
    "# Iterate over the alphas and print the corresponding score\n",
    "scores =[]\n",
    "for alpha in alphas:\n",
    "    #print('Alpha: ', alpha)\n",
    "    #print('Score: ', train_and_predict(alpha))\n",
    "    #print('')\n",
    "    scores.append([alpha,train_and_predict(alpha)])\n",
    "scores = np.array(scores)\n",
    "\n",
    "\n",
    "ax = plt.figure(figsize=(10,10))\n",
    "plt.plot(scores[:,0],scores[:,1],\"bo\",markersize=15)\n",
    "plt.plot(scores[:,0],scores[:,1],\"r-\")\n",
    "plt.tick_params(axis='both', which='major', labelsize=15)\n",
    "plt.tick_params(axis='both', which='minor', labelsize=15)\n",
    "plt.xlabel(\"Alphas\",fontsize=16)\n",
    "plt.ylabel('Accuracy',fontsize=16)"
   ]
  },
  {
   "cell_type": "code",
   "execution_count": null,
   "metadata": {},
   "outputs": [],
   "source": []
  },
  {
   "cell_type": "markdown",
   "metadata": {},
   "source": [
    "## WE can look in the features after  TF-IDF vectorization"
   ]
  },
  {
   "cell_type": "code",
   "execution_count": 225,
   "metadata": {},
   "outputs": [
    {
     "name": "stdout",
     "output_type": "stream",
     "text": [
      "('FAKE', [(-11.316312804238807, u'0000'), (-11.316312804238807, u'000035'), (-11.316312804238807, u'0001'), (-11.316312804238807, u'0001pt'), (-11.316312804238807, u'000km'), (-11.316312804238807, u'0011'), (-11.316312804238807, u'006s'), (-11.316312804238807, u'007'), (-11.316312804238807, u'007s'), (-11.316312804238807, u'008s')])\n",
      "('REAL', [(-11.316312804238807, u'02welcome'), (-11.316312804238807, u'031'), (-11.316312804238807, u'032'), (-11.316312804238807, u'0325'), (-11.316312804238807, u'033')])\n"
     ]
    }
   ],
   "source": [
    "# Get the class labels: class_labels\n",
    "class_labels = nb_classifier.classes_\n",
    "\n",
    "# Extract the features: feature_names\n",
    "feature_names = tfidf_vectorizer.get_feature_names()\n",
    "\n",
    "# Zip the feature names together with the coefficient array and sort by weights: feat_with_weights\n",
    "feat_with_weights = sorted(zip(nb_classifier.coef_[0], feature_names))\n",
    "\n",
    "# Print the first class label and the top 20 feat_with_weights entries\n",
    "print(class_labels[0], feat_with_weights[:10])\n",
    "\n",
    "# Print the second class label and the bottom 20 feat_with_weights entries\n",
    "print(class_labels[1], feat_with_weights[20:25])"
   ]
  },
  {
   "cell_type": "markdown",
   "metadata": {},
   "source": [
    "### Let's Hypertune the initial conditional probability in our Naive Bayesian Model for Bag of Words"
   ]
  },
  {
   "cell_type": "code",
   "execution_count": 259,
   "metadata": {},
   "outputs": [
    {
     "data": {
      "text/plain": [
       "<matplotlib.text.Text at 0x20d0d3bd0>"
      ]
     },
     "execution_count": 259,
     "metadata": {},
     "output_type": "execute_result"
    },
    {
     "data": {
      "image/png": "[encoded data removed]",
      "text/plain": [
       "<matplotlib.figure.Figure at 0x20d3211d0>"
      ]
     },
     "metadata": {},
     "output_type": "display_data"
    }
   ],
   "source": [
    "#Create the list of alphas: alphas\n",
    "alphas = np.arange(0,1,0.1)\n",
    "\n",
    "# Define train_and_predict()\n",
    "def train_and_predict(alpha):\n",
    "    # Instantiate the classifier: nb_classifier\n",
    "    nb_classifier = MultinomialNB(alpha=alpha)\n",
    "    # Fit to the training data\n",
    "    nb_classifier.fit(count_train,y_train)\n",
    "    # Predict the labels: pred\n",
    "    pred = nb_classifier.predict(count_test)\n",
    "    # Compute accuracy: score\n",
    "    score = metrics.accuracy_score(y_test,pred)\n",
    "    return score\n",
    "\n",
    "# Iterate over the alphas and print the corresponding score\n",
    "scores =[]\n",
    "for alpha in alphas:\n",
    "    #print('Alpha: ', alpha)\n",
    "    #print('Score: ', train_and_predict(alpha))\n",
    "    #print('')\n",
    "    scores.append([alpha,train_and_predict(alpha)])\n",
    "scores = np.array(scores)\n",
    "\n",
    "\n",
    "ax = plt.figure(figsize=(10,10))\n",
    "plt.plot(scores[:,0],scores[:,1],\"bo\",markersize=15)\n",
    "plt.plot(scores[:,0],scores[:,1],\"r-\")\n",
    "plt.tick_params(axis='both', which='major', labelsize=15)\n",
    "plt.tick_params(axis='both', which='minor', labelsize=15)\n",
    "plt.xlabel(\"Alphas\",fontsize=16)\n",
    "plt.ylabel('Accuracy',fontsize=16)"
   ]
  },
  {
   "cell_type": "markdown",
   "metadata": {},
   "source": [
    "## Let's Hash the Data (Chaining Approach): Data Structure technique to save local Memory \n",
    "## One of Con's the cons is that we lose info about features\n",
    "## Gotta switch from Naive Bayesian to Perceptron ( or SGD)"
   ]
  },
  {
   "cell_type": "code",
   "execution_count": 24,
   "metadata": {},
   "outputs": [
    {
     "name": "stdout",
     "output_type": "stream",
     "text": [
      "*******TRAINING SCORE:\n",
      "0.9948162111215834\n",
      "\n",
      "*******TESTING SCORE:\n",
      "0.9091343854615017\n",
      "\n"
     ]
    },
    {
     "data": {
      "image/png": "[encoded data removed]",
      "text/plain": [
       "<matplotlib.figure.Figure at 0x110916b90>"
      ]
     },
     "metadata": {},
     "output_type": "display_data"
    },
    {
     "name": "stdout",
     "output_type": "stream",
     "text": [
      "\n",
      "----------Classification Report------------------------------------\n",
      "             precision    recall  f1-score   support\n",
      "\n",
      "       FAKE       0.89      0.92      0.91      1008\n",
      "       REAL       0.92      0.90      0.91      1083\n",
      "\n",
      "avg / total       0.91      0.91      0.91      2091\n",
      "\n"
     ]
    }
   ],
   "source": [
    "# Import TfidfVectorizer\n",
    "from sklearn.feature_extraction.text import HashingVectorizer\n",
    "from sklearn.linear_model import Perceptron\n",
    "\n",
    "\n",
    "# Initialize a TfidfVectorizer object: tfidf_vectorizer\n",
    "hash_vectorizer = HashingVectorizer(stop_words='english')\n",
    "\n",
    "# Transform the training data: tfidf_train \n",
    "hash_train = hash_vectorizer.fit_transform(X_train)\n",
    "\n",
    "# Transform the test data: tfidf_test \n",
    "hash_test = hash_vectorizer.transform(X_test)\n",
    "\n",
    "\n",
    "# Create a Multinomial Naive Bayes classifier: nb_classifier\n",
    "per_classifier_hash = Perceptron()\n",
    "\n",
    "# Fit the classifier to the training data\n",
    "per_classifier_hash.fit(hash_train,y_train)\n",
    "\n",
    "# Create the predicted tags: pred\n",
    "pred = per_classifier_hash.predict(hash_test)\n",
    "\n",
    "\n",
    "\n",
    "pred_tr = per_classifier_hash.predict(hash_train)\n",
    "# Calculate the accuracy score: score\n",
    "score = metrics.accuracy_score(y_test,pred)\n",
    "score_tr = metrics.accuracy_score(y_train,pred_tr)\n",
    "\n",
    "\n",
    "\n",
    "\n",
    "print('*******TRAINING SCORE:')\n",
    "print(score_tr)\n",
    "print('')\n",
    "print('*******TESTING SCORE:')\n",
    "print(score)\n",
    "print('')\n",
    "\n",
    "\n",
    "\n",
    "# Calculate the confusion matrix: cm\n",
    "cm = metrics.confusion_matrix(y_test,pred,labels=['FAKE','REAL'])\n",
    "\n",
    "\n",
    "sns.heatmap(cm,cmap=\"coolwarm_r\",annot=True,linewidths=0.5)\n",
    "plt.title(\"Confusion_matrix\")\n",
    "plt.xlabel(\"Predicted_class\")\n",
    "plt.ylabel(\"Real class\")\n",
    "plt.show()\n",
    "print(\"\\n----------Classification Report------------------------------------\")\n",
    "print(classification_report(y_test,pred))\n"
   ]
  },
  {
   "cell_type": "markdown",
   "metadata": {},
   "source": [
    "## TODO :\n",
    "### (i) We could try to use bi-grams \n",
    "### (ii) Maybe do a battle between : Naive Bayesian, Perceptron, SVM, SGD"
   ]
  },
  {
   "cell_type": "code",
   "execution_count": null,
   "metadata": {},
   "outputs": [],
   "source": []
  },
  {
   "cell_type": "code",
   "execution_count": null,
   "metadata": {},
   "outputs": [],
   "source": []
  },
  {
   "cell_type": "markdown",
   "metadata": {},
   "source": [
    "\n",
    "## **********CHATBOT INFRASTRUCTURE********************"
   ]
  },
  {
   "cell_type": "markdown",
   "metadata": {},
   "source": [
    "## ********** HERE WE BUILD CHATBOT INFRASTRUCTURE********************"
   ]
  },
  {
   "cell_type": "markdown",
   "metadata": {},
   "source": [
    "##### Our Chatbot is a news supplier : it can chat to some extend both is build to provide fake/real news"
   ]
  },
  {
   "cell_type": "markdown",
   "metadata": {},
   "source": [
    "### Chatbot has 3 states and it will tog between states : echo, news provider (workhorse) and chichat"
   ]
  },
  {
   "cell_type": "code",
   "execution_count": 33,
   "metadata": {},
   "outputs": [],
   "source": [
    "#Rasa Module\n",
    "from rasa_nlu.converters import load_data\n",
    "from rasa_nlu.config import RasaNLUConfig\n",
    "from rasa_nlu.model import Trainer\n",
    "import json\n",
    "\n",
    "training_data = load_data('training.json')\n"
   ]
  },
  {
   "cell_type": "markdown",
   "metadata": {},
   "source": [
    "## **********Interpreter training : We can identify the intent of the user**********"
   ]
  },
  {
   "cell_type": "markdown",
   "metadata": {},
   "source": [
    "## We rely on the RASA module that uses spacy NLP prowess to learn from training data to identify the needs of the user"
   ]
  },
  {
   "cell_type": "code",
   "execution_count": 34,
   "metadata": {},
   "outputs": [
    {
     "name": "stdout",
     "output_type": "stream",
     "text": [
      "Fitting 2 folds for each of 6 candidates, totalling 12 fits\n"
     ]
    },
    {
     "name": "stderr",
     "output_type": "stream",
     "text": [
      "/opt/local/Library/Frameworks/Python.framework/Versions/2.7/lib/python2.7/site-packages/sklearn/metrics/classification.py:1113: UndefinedMetricWarning: F-score is ill-defined and being set to 0.0 in labels with no predicted samples.\n",
      "  'precision', 'predicted', average, warn_for)\n",
      "[Parallel(n_jobs=1)]: Done  12 out of  12 | elapsed:    0.1s finished\n",
      "/opt/local/Library/Frameworks/Python.framework/Versions/2.7/lib/python2.7/site-packages/sklearn/preprocessing/label.py:171: DeprecationWarning: The truth value of an empty array is ambiguous. Returning False, but in future this will result in an error. Use `array.size > 0` to check that an array is not empty.\n",
      "  if diff:\n"
     ]
    },
    {
     "data": {
      "text/plain": [
       "{u'confidence': 0.29577367747281247, u'name': u'fake news'}"
      ]
     },
     "execution_count": 34,
     "metadata": {},
     "output_type": "execute_result"
    }
   ],
   "source": [
    "pipeline = [\n",
    "    \"nlp_spacy\",\n",
    "    \"tokenizer_spacy\",\n",
    "    \"ner_crf\"\n",
    "]\n",
    "\n",
    "\n",
    "\n",
    "args = {'pipeline':'spacy_sklearn'}\n",
    "\n",
    "\n",
    "# Create a config that uses this pipeline\n",
    "#config = RasaNLUConfig(cmdline_args={'pipeline':pipeline})\n",
    "config = RasaNLUConfig(cmdline_args=args)\n",
    "\n",
    "# Create a trainer that uses this config\n",
    "trainer = Trainer(config)\n",
    "\n",
    "# Create an interpreter by training the model\n",
    "interpreter = trainer.train(training_data)\n",
    "entities = interpreter.parse(unicode(\"yes give me fake\",'UTF-8'))\n",
    "entities['intent']"
   ]
  },
  {
   "cell_type": "markdown",
   "metadata": {},
   "source": [
    "## Let's find a channel to the SQL Database so the ChatBot can access it\n"
   ]
  },
  {
   "cell_type": "markdown",
   "metadata": {},
   "source": [
    "## We use a SQLITE to connect to database so chatbot can dig some news"
   ]
  },
  {
   "cell_type": "markdown",
   "metadata": {},
   "source": []
  },
  {
   "cell_type": "code",
   "execution_count": 35,
   "metadata": {},
   "outputs": [],
   "source": [
    "import sqlite3"
   ]
  },
  {
   "cell_type": "code",
   "execution_count": 36,
   "metadata": {},
   "outputs": [],
   "source": [
    "conn = sqlite3.connect('yourfile.sqlite')"
   ]
  },
  {
   "cell_type": "code",
   "execution_count": 168,
   "metadata": {},
   "outputs": [
    {
     "data": {
      "text/plain": [
       "<sqlite3.Cursor at 0x20b83eb20>"
      ]
     },
     "execution_count": 168,
     "metadata": {},
     "output_type": "execute_result"
    }
   ],
   "source": [
    "# Create a cursor\n",
    "c = conn.cursor()\n",
    "\n",
    "# Define area and price\n",
    "#area, price = \"south\", \"hi\"\n",
    "#t = (area, price)\n",
    "\n",
    "# Execute the query\n",
    "c.execute('SELECT title FROM yourfile where label=\"FAKE\"')\n",
    "\n"
   ]
  },
  {
   "cell_type": "markdown",
   "metadata": {},
   "source": [
    "## ********** NEWS CHATBOT INFRASTRUCTURE********************"
   ]
  },
  {
   "cell_type": "markdown",
   "metadata": {},
   "source": [
    "## This BOT component takes care of the News deployment"
   ]
  },
  {
   "cell_type": "markdown",
   "metadata": {},
   "source": [
    "## It connects to the database to look for the news\n",
    "## Example:\n",
    "## USER : I want fake news\n",
    "## BOT : Ok some fake news for you\n",
    "## TRUMPED! LIBERAL NEWS OUTLET BLOOMBERG POLL CONCEDES TRUMP BEATING CROOKED HILLARY IN FLORIDA"
   ]
  },
  {
   "cell_type": "code",
   "execution_count": 314,
   "metadata": {},
   "outputs": [],
   "source": [
    "# Define respond()\n",
    "\n",
    "\n",
    "\n",
    "def find_news(news_type):\n",
    "\n",
    "    r_news_txt = []\n",
    "    r_news_title = []\n",
    "    if news_type ==\"fake news\":\n",
    "        c.execute('SELECT text FROM yourfile')\n",
    "        news_txt = c.fetchall();\n",
    "        \n",
    "        c.execute('SELECT title FROM yourfile')\n",
    "        news_title = c.fetchall();\n",
    "        \n",
    "    if news_type ==\"real news\":\n",
    "        c.execute('SELECT text FROM yourfile')\n",
    "        news_txt = c.fetchall();\n",
    "        \n",
    "        c.execute('SELECT title FROM yourfile')\n",
    "        news_title = c.fetchall();\n",
    "\n",
    "    \n",
    "    for _ in news_txt:\n",
    "         new_t = _[0].encode('ascii','replace')\n",
    "         r_news_txt.append(new_t);\n",
    "        \n",
    "    for _ in news_title:\n",
    "         new_t = _[0].encode('ascii','replace')\n",
    "         r_news_title.append(new_t);\n",
    "    \n",
    "    r_news_title = np.random.choice(r_news_title,4)\n",
    "    r_news_txt = np.random.choice(r_news_txt,4)\n",
    "    \n",
    "    response_news_txt =[]\n",
    "    response_news_title =[]\n",
    "    tr = tfidf_vectorizer.transform(r_news_txt)\n",
    "    labels = nb_classifier.predict(tr)\n",
    "    #print(labels)\n",
    "    if news_type == \"fake news\":\n",
    "        news_type_sgn = \"FAKE\" \n",
    "    else:\n",
    "        news_type_sgn = \"REAL\"\n",
    "    for idx,_l in enumerate(labels):\n",
    "        if _l == news_type_sgn:\n",
    "           \n",
    "            response_news_txt.append(r_news_txt[idx])\n",
    "            response_news_title.append(r_news_title[idx])\n",
    "    \n",
    "    return response_news_txt,response_news_title\n",
    "\n",
    "\n",
    "def respond_inform(message):\n",
    "    # Extract the entities\n",
    "    u_msg =unicode(message,'UTF-8')\n",
    "    intent = interpreter.parse(u_msg)[\"intent\"]['name']\n",
    "    \n",
    "    if  \"news\" in intent:\n",
    "        titles,news = find_news(intent)\n",
    "        return titles,news\n",
    "\n",
    "    "
   ]
  },
  {
   "cell_type": "code",
   "execution_count": null,
   "metadata": {},
   "outputs": [],
   "source": [
    "\n"
   ]
  },
  {
   "cell_type": "markdown",
   "metadata": {},
   "source": [
    "## CHICHAT CHATBOT INFRASTRUCTURE**\n"
   ]
  },
  {
   "cell_type": "markdown",
   "metadata": {},
   "source": [
    "## it deals with Questions and statements\n",
    "## Example\n",
    "## USER : thanks , bye!\n",
    "## BOT : good bye, dude"
   ]
  },
  {
   "cell_type": "code",
   "execution_count": 271,
   "metadata": {},
   "outputs": [],
   "source": [
    "import random\n",
    "\n",
    "bot_template = \"BOT : {0}\"\n",
    "user_template = \"USER : {0}\"\n",
    "\n",
    "# Define a function that sends a message to the bot: send_message\n",
    "def chichat_send_message(message):\n",
    "    # Print user_template including the user_message\n",
    "    print(user_template.format(message))\n",
    "    # Get the bot's response to the message\n",
    "    response = chichat_respond(message)\n",
    "    # Print the bot template including the bot's response.\n",
    "    print(bot_template.format(response))\n",
    "    \n",
    "    \n",
    "    \n",
    "\n",
    "\n",
    "\n",
    "\n",
    "responses = {'question': [\"I don't know :(. Want some news?\", 'you tell me! want some news?'],\n",
    "            'statement':['bye','good bye, dude']}\n",
    "\n",
    "def chichat_respond(message):\n",
    "    # Check for a question mark\n",
    "    if message.endswith('?'):\n",
    "        # Return a random question\n",
    "        return random.choice(responses[\"question\"])\n",
    "    # Return a random statement\n",
    "    else:\n",
    "        return random.choice(responses[\"statement\"])\n",
    "    \n",
    "\n",
    "# Send a message to the bot\n",
    "\n"
   ]
  },
  {
   "cell_type": "markdown",
   "metadata": {},
   "source": [
    "## Echo BOT : "
   ]
  },
  {
   "cell_type": "markdown",
   "metadata": {},
   "source": [
    "## Example : \n",
    "## USER : hi\n",
    "## BOT : I can hear you! You said: hi"
   ]
  },
  {
   "cell_type": "code",
   "execution_count": 267,
   "metadata": {},
   "outputs": [],
   "source": [
    "bot_template = \"BOT : {0}\"\n",
    "user_template = \"USER : {0}\"\n",
    "\n",
    "# Define a function that responds to a user's message: respond\n",
    "def echo_respond(message):\n",
    "    # Concatenate the user's message to the end of a standard bot respone\n",
    "    bot_message = \"I can hear you! You said: \" + message\n",
    "    # Return the result\n",
    "    return bot_message\n",
    "def echo_send_message(message):\n",
    "    # Print user_template including the user_message\n",
    "    print(user_template.format(message))\n",
    "    # Get the bot's response to the message\n",
    "    response = echo_respond(message)\n",
    "    # Print the bot template including the bot's response.\n",
    "    print(bot_template.format(response))\n",
    "\n"
   ]
  },
  {
   "cell_type": "markdown",
   "metadata": {},
   "source": []
  },
  {
   "cell_type": "code",
   "execution_count": 326,
   "metadata": {},
   "outputs": [
    {
     "name": "stdout",
     "output_type": "stream",
     "text": [
      "USER : hi\n",
      "BOT : I can hear you! You said: hi\n",
      "USER : I want fake news\n",
      "BOT : Ok some fake news for you\n",
      "November 3, 2016 - Fort Russ News -  RusVesna - translated by J. Arnoldski -  \n",
      "\n",
      "\n",
      "On October 27th, 2016, as a result of joint operative-investigative activities between Russian and Turkish intelligence, in Instanbul were arrested leaders and active participants of an underground gang from the North Caucasus region and Crimea, who were hiding from Russian law enforcement on Turkish territory.  \n",
      "During the course of the operation, representatives of the Crimean branch of Hizb -ut-Tahrir and the North Caucasus wing of ISIS, totaling 80 people, were arrested. \n",
      "\n",
      "\n",
      "In line with the agreement with Turkey?s intelligence services, their extradition to Russia is being resolved. \n",
      "\n",
      "A high-ranking source in security structures explained to Russian Spring that Turkish intelligence services? transfer of information on the Crimean Tatar and North Caucasus terrorist network to the Russian side, timed for the meeting between Putin and Erdogan in Sochi, was a gesture of thanks for intelligence warnings about the coup that failed in July, 2016.  \n",
      "\n",
      "     Follow us on Facebook!                                                   \n",
      "                                                   \n",
      "\n",
      "       Follow us on Twitter! \n",
      "                               \n",
      "\n",
      "             Donate! \n",
      "\n",
      "USER : give me real news\n",
      "BOT : Ok some real news for you\n",
      "While campaigning for Hillary Clinton in Florida, Alicia Machado described in detail the abuse inflicted on her by Donald Trump at the Miss Universe pageant. \n",
      "Clip: \n",
      "? CBS News (@CBSNews) November 1, 2016 \n",
      "Machado said, ?I was scared of him. He made fun of me, and I didn?t know how to respond. He told me I was ugly. I was massive. He called me names. He called me Miss Piggy, Miss Housekeeping, Miss Eating Machine?.For years, afterward, I was sick fighting back eating disorders.? \n",
      "Machado added, ?It?s clear. It?s really clear that he does not respect women. He just judges us on our looks.? \n",
      "It is smart to take every opportunity to remind voters that as a human being, Donald Trump has consistently behaved in public like trash. He is a man who hates women and treats more than half of the population like objects. \n",
      "Having Machado introduce Clinton in Florida was also savvy politics. Trump has never demonstrated the personal restraint needed not to take the bait. Machado?s comments should cause Trump to blow up again, and throw his dire campaign even further off message. \n",
      "Hillary Clinton is setting Trump with a masterful trap. No one has been better at feeding negative Trump news cycles than the candidate himself. Trump can?t resist defending himself, and Hillary Clinton is setting the Republican nominee up to open his mouth and wallow in his own sexist mud.\n",
      "USER : thanks , bye!\n",
      "BOT : bye\n"
     ]
    }
   ],
   "source": [
    "STATE =0\n",
    "STATES=['affirm','fake news','real news','goodbye']\n",
    "# Define send_messages()\n",
    "def send_messages(messages):\n",
    "    state = STATE\n",
    "    pending = None\n",
    "    for msg in messages:\n",
    "        u_msg =unicode(msg,'UTF-8')\n",
    "        intent = interpreter.parse(u_msg)[\"intent\"]['name']\n",
    "       \n",
    "        if intent == STATES[0]:\n",
    "            echo_send_message(msg)\n",
    "        if intent == STATES[1] or intent == STATES[2]:\n",
    "            print(user_template.format(msg))\n",
    "            print(bot_template.format('Ok some ' + intent + ' for you'))\n",
    "            \n",
    "            news,titles = respond_inform(msg);\n",
    "            for idx,_news in enumerate(news[:1]):\n",
    "                \n",
    "                print(_news)\n",
    "        if intent ==STATES[3] :\n",
    "            chichat_send_message(msg);\n",
    "# Send the messages\n",
    "send_messages([\n",
    "    \"hi\",\n",
    "    \"I want fake news\",\n",
    "    \"give me real news\",\n",
    "    \"thanks , bye!\"\n",
    "])\n",
    "\n"
   ]
  },
  {
   "cell_type": "code",
   "execution_count": null,
   "metadata": {},
   "outputs": [],
   "source": []
  }
 ],
 "metadata": {
  "kernelspec": {
   "display_name": "Python 2",
   "language": "python",
   "name": "python2"
  },
  "language_info": {
   "codemirror_mode": {
    "name": "ipython",
    "version": 2
   },
   "file_extension": ".py",
   "mimetype": "text/x-python",
   "name": "python",
   "nbconvert_exporter": "python",
   "pygments_lexer": "ipython2",
   "version": "2.7.11"
  }
 },
 "nbformat": 4,
 "nbformat_minor": 1
}
